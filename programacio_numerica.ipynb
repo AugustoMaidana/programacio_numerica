{
 "metadata": {
  "language_info": {
   "codemirror_mode": {
    "name": "ipython",
    "version": 3
   },
   "file_extension": ".py",
   "mimetype": "text/x-python",
   "name": "python",
   "nbconvert_exporter": "python",
   "pygments_lexer": "ipython3",
   "version": "3.9.2"
  },
  "orig_nbformat": 2,
  "kernelspec": {
   "name": "python392jvsc74a57bd0f6cdc19f49f27d304540c94e517753cec0fc989b1dfe618742c310b8a679cd44",
   "display_name": "Python 3.9.2 64-bit ('myenv': conda)"
  }
 },
 "nbformat": 4,
 "nbformat_minor": 2,
 "cells": [
  {
   "source": [
    "# Tasca 4: Pràctica amb programació numèrica\n",
    "\n",
    "## Descripció :\n",
    "Familiaritza't amb la Programació Numèrica a través de la llibreria NumPy.\n",
    "\n",
    "## Nivell 1\n",
    "\n",
    "- Exercici 1 :\n",
    "Crea una funció que donat un Array d’una dimensió, et faci un resum estadístic bàsic de les dades. Si detecta que l’array té més d’una dimensió, ha de mostrar un missatge d’error."
   ],
   "cell_type": "markdown",
   "metadata": {}
  },
  {
   "source": [
    "- Exercici 2 :\n",
    "Crea una funció que et generi un quadrat NxN de nombres aleatoris entre el 0 i el 100."
   ],
   "cell_type": "markdown",
   "metadata": {}
  },
  {
   "source": [
    "- Exercici 3 :\n",
    "Crea una funció que donada una taula de dues dimensions, et calculi els totals per fila i els totals per columna."
   ],
   "cell_type": "markdown",
   "metadata": {}
  },
  {
   "source": [
    "- Exercici 4 :\n",
    "Implementa manualment una funció que calculi el coeficient de correlació. Informa’t-en sobre els seus usos i interpretació."
   ],
   "cell_type": "markdown",
   "metadata": {}
  },
  {
   "source": [],
   "cell_type": "markdown",
   "metadata": {}
  }
 ]
}